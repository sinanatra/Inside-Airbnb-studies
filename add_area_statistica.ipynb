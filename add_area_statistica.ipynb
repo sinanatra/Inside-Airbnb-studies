{
 "cells": [
  {
   "cell_type": "markdown",
   "id": "6c44b99f-1e5f-41f4-8dc8-3363a2befef9",
   "metadata": {},
   "source": [
    "Qua selezioni il tuo file csv nella cartella"
   ]
  },
  {
   "cell_type": "code",
   "execution_count": 76,
   "id": "ba46d8ec-79ae-4500-a01e-6968d6df85c1",
   "metadata": {},
   "outputs": [],
   "source": [
    "file_name = \"2022-3.csv\""
   ]
  },
  {
   "cell_type": "code",
   "execution_count": 77,
   "id": "5ab44a63-2488-4fc4-a540-adc710428ff7",
   "metadata": {},
   "outputs": [],
   "source": [
    "input_csv = \"./input/\" + file_name"
   ]
  },
  {
   "cell_type": "markdown",
   "id": "0f683241-0d7b-441a-8f2d-19a972813fda",
   "metadata": {},
   "source": [
    "cicliamo ogni riga di entrambi i csv e controlliamo se le coordinate stanno dentro una delle aree statistiche. Poi salviamo un nuovo csv dentro ./output"
   ]
  },
  {
   "cell_type": "code",
   "execution_count": 78,
   "id": "f4c47a3f-c829-4702-b1e5-e86f8579e158",
   "metadata": {
    "tags": []
   },
   "outputs": [
    {
     "ename": "ValueError",
     "evalue": "could not convert string to float: '2022-01-03'",
     "output_type": "error",
     "traceback": [
      "\u001b[0;31m---------------------------------------------------------------------------\u001b[0m",
      "\u001b[0;31mValueError\u001b[0m                                Traceback (most recent call last)",
      "\u001b[0;32m/var/folders/01/g8q594p16jdbfy7_9m8l3w940000gn/T/ipykernel_45025/3910554828.py\u001b[0m in \u001b[0;36m<module>\u001b[0;34m\u001b[0m\n\u001b[1;32m     26\u001b[0m                 \u001b[0mpolygon\u001b[0m \u001b[0;34m=\u001b[0m \u001b[0mPolygon\u001b[0m\u001b[0;34m(\u001b[0m\u001b[0mgeo_shape\u001b[0m\u001b[0;34m[\u001b[0m\u001b[0;34m\"coordinates\"\u001b[0m\u001b[0;34m]\u001b[0m\u001b[0;34m[\u001b[0m\u001b[0;36m0\u001b[0m\u001b[0;34m]\u001b[0m\u001b[0;34m[\u001b[0m\u001b[0;36m0\u001b[0m\u001b[0;34m]\u001b[0m\u001b[0;34m)\u001b[0m\u001b[0;34m\u001b[0m\u001b[0;34m\u001b[0m\u001b[0m\n\u001b[1;32m     27\u001b[0m \u001b[0;34m\u001b[0m\u001b[0m\n\u001b[0;32m---> 28\u001b[0;31m                 \u001b[0mpoint\u001b[0m \u001b[0;34m=\u001b[0m \u001b[0mPoint\u001b[0m\u001b[0;34m(\u001b[0m\u001b[0mfloat\u001b[0m\u001b[0;34m(\u001b[0m\u001b[0mlongitude\u001b[0m\u001b[0;34m)\u001b[0m\u001b[0;34m,\u001b[0m\u001b[0mfloat\u001b[0m\u001b[0;34m(\u001b[0m\u001b[0mlatitude\u001b[0m\u001b[0;34m)\u001b[0m\u001b[0;34m)\u001b[0m\u001b[0;34m\u001b[0m\u001b[0;34m\u001b[0m\u001b[0m\n\u001b[0m\u001b[1;32m     29\u001b[0m                 \u001b[0;32mif\u001b[0m \u001b[0;34m(\u001b[0m\u001b[0mpolygon\u001b[0m\u001b[0;34m.\u001b[0m\u001b[0mcontains\u001b[0m\u001b[0;34m(\u001b[0m\u001b[0mpoint\u001b[0m\u001b[0;34m)\u001b[0m\u001b[0;34m)\u001b[0m\u001b[0;34m:\u001b[0m\u001b[0;34m\u001b[0m\u001b[0;34m\u001b[0m\u001b[0m\n\u001b[1;32m     30\u001b[0m                     \u001b[0moutput\u001b[0m\u001b[0;34m.\u001b[0m\u001b[0mwrite\u001b[0m\u001b[0;34m(\u001b[0m\u001b[0;34m\";\"\u001b[0m\u001b[0;34m.\u001b[0m\u001b[0mjoin\u001b[0m\u001b[0;34m(\u001b[0m\u001b[0mrow\u001b[0m\u001b[0;34m)\u001b[0m \u001b[0;34m+\u001b[0m \u001b[0;34m\";\"\u001b[0m \u001b[0;34m+\u001b[0m \u001b[0marea\u001b[0m\u001b[0;34m[\u001b[0m\u001b[0;36m1\u001b[0m\u001b[0;34m]\u001b[0m \u001b[0;34m+\u001b[0m \u001b[0;34m\"\\n\"\u001b[0m\u001b[0;34m)\u001b[0m\u001b[0;34m\u001b[0m\u001b[0;34m\u001b[0m\u001b[0m\n",
      "\u001b[0;31mValueError\u001b[0m: could not convert string to float: '2022-01-03'"
     ]
    }
   ],
   "source": [
    "import csv\n",
    "import json\n",
    "from shapely.geometry import Point\n",
    "from shapely.geometry.polygon import Polygon\n",
    "\n",
    "output = open(\"./output/\" + file_name, \"w\")\n",
    "\n",
    "with open(input_csv) as csvfile:\n",
    "    input_reader = csv.reader(csvfile)\n",
    "    \n",
    "    for i,row in enumerate(input_reader):\n",
    "        if i == 0:\n",
    "            output.write(\";\".join(row) + \";\" + \"Area Statistica\" + \"\\n\")\n",
    "            continue\n",
    "            \n",
    "        latitude = row[7]\n",
    "        longitude = row[8]\n",
    "        \n",
    "        with open(\"aree-statistiche.csv\") as csvaree:\n",
    "            input_aree = csv.reader(csvaree, delimiter=';')\n",
    "            next(input_aree)\n",
    "\n",
    "            for area in input_aree:\n",
    "                geo_shape = json.loads(area[7])\n",
    "                #print(geo_shape[\"coordinates\"][0][0])\n",
    "                polygon = Polygon(geo_shape[\"coordinates\"][0][0])\n",
    "                \n",
    "                point = Point(float(longitude),float(latitude))\n",
    "                if (polygon.contains(point)):\n",
    "                    output.write(\";\".join(row) + \";\" + area[1] + \"\\n\")\n",
    "        \n",
    "output.close()"
   ]
  }
 ],
 "metadata": {
  "kernelspec": {
   "display_name": "Python 3 (ipykernel)",
   "language": "python",
   "name": "python3"
  },
  "language_info": {
   "codemirror_mode": {
    "name": "ipython",
    "version": 3
   },
   "file_extension": ".py",
   "mimetype": "text/x-python",
   "name": "python",
   "nbconvert_exporter": "python",
   "pygments_lexer": "ipython3",
   "version": "3.8.5"
  }
 },
 "nbformat": 4,
 "nbformat_minor": 5
}
